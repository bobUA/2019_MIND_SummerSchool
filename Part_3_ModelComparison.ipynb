{
 "cells": [
  {
   "cell_type": "markdown",
   "metadata": {},
   "source": [
    "# Model comparison\n",
    "\n",
    "In model comparison, our goal is to determine which model, out of a set of possible models, is most likely to have generated the data. There are a number of different ways to make this comparison which are briefly summarized in the Appendix of (Wilson and Collins, 2019). Here we focus on the most common method which is related to the log-likelihood.\n",
    "\n",
    "A simplistic approach to model comparison would be to compare the log-likelihoods of each model at the best fitting parameter settings, $p(d_{1:T} | \\hat{\\theta}_m, m)$.  However, if the data, $d_{1:T}$, used to evaluate the log-likelihood are the same data used to fit the parameters, then this approach will lead to overfitting, as the model with most free parameters will almost always fit this 'training' data best.  As an extreme example, consider the case of a model with one 'parameter' per choice which is the identity of the choice the person actually made.  Such a 'model' would fit the data perfectly, but would of course tell us nothing about how the choices were actually determined and make no predictions about what choices would be made in a different setting. Overfitting is a problem in that it decreases the generalizability of the model. \n",
    "\n",
    "One way to avoid overfitting is to perform cross-validation: by measuring fit on held-out data, we directly test generalizability. However, this is not always possible for practical reasons (number of samples) or more fundamental ones (dependence between data points). Thus, other methods mitigate the risk of overfitting by approximately accounting for the degrees of freedom in the model. Here we focus on one of the simplest methods, the Bayes Information Criterion, $BIC$, which has an explicit penalty for free parameters.  \n",
    "\\begin{equation}\n",
    "\\label{eq:BIC}\n",
    "    BIC = -2 \\log \\hat{LL} + k_m \\log(T)\n",
    "\\end{equation}\n",
    "where $\\hat{LL}$ is the log-likelihood value at the best fitting parameter settings, and $k_m$ is the number of parameters in model $m$.  The model with the smallest $BIC$ score is the model that best fits the data.  Thus, the positive effect of $k_m$ in the last term corresponds to a penalty for models with large numbers of parameters. \n"
   ]
  },
  {
   "cell_type": "code",
   "execution_count": 1,
   "metadata": {},
   "outputs": [
    {
     "name": "stdout",
     "output_type": "stream",
     "text": [
      "Created file '/Users/bob/Work/Teaching/2019_MIND_SummerSchool/notebooks/fit_all_v1.m'.\n"
     ]
    }
   ],
   "source": [
    "%%file fit_all_v1.m\n",
    "\n",
    "% make a function to fit all models to a set of data\n",
    "\n",
    "function [BIC, iBEST, BEST] = fit_all_v1(a, r)\n",
    "\n",
    "[~, ~, BIC(1)] = fit_M1random_v1(a, r);\n",
    "[~, ~, BIC(2)] = fit_M2WSLS_v1(a, r);\n",
    "[~, ~, BIC(3)] = fit_M3RescorlaWagner_v1(a, r);\n",
    "[~, ~, BIC(4)] = fit_M4CK_v1(a, r);\n",
    "[~, ~, BIC(5)] = fit_M5RWCK_v1(a, r);\n",
    "\n",
    "[M, iBEST] = min(BIC);\n",
    "BEST = BIC == M;\n",
    "BEST = BEST / sum(BEST);"
   ]
  },
  {
   "cell_type": "code",
   "execution_count": 6,
   "metadata": {
    "scrolled": true
   },
   "outputs": [
    {
     "name": "stdout",
     "output_type": "stream",
     "text": [
      "\n",
      "BIC =\n",
      "\n",
      "   61.2177   59.8510   41.7804   47.0963   46.4809\n",
      "\n",
      "\n",
      "iBEST =\n",
      "\n",
      "     3\n",
      "\n",
      "\n",
      "BEST =\n",
      "\n",
      "     0     0     1     0     0\n",
      "\n"
     ]
    }
   ],
   "source": [
    "% generate some data from Model 3 and fit it with all models\n",
    "T = 50;\n",
    "mu = [0.2 0.8];\n",
    "alpha = 0.1;\n",
    "beta = 5;\n",
    "[a, r] = simulate_M3RescorlaWagner_v1(50, mu, alpha, beta);\n",
    "\n",
    "[BIC, iBEST, BEST] = fit_all_v1(a, r)"
   ]
  },
  {
   "cell_type": "markdown",
   "metadata": {},
   "source": [
    "Is this good? Let's repeat the process multiple times and count how many times the data are best fit with model 3 ..."
   ]
  },
  {
   "cell_type": "code",
   "execution_count": 11,
   "metadata": {},
   "outputs": [
    {
     "name": "stdout",
     "output_type": "stream",
     "text": [
      "\n",
      "COUNT =\n",
      "\n",
      "     6     1     3     0     0\n",
      "\n"
     ]
    }
   ],
   "source": [
    "% simulate and fit multiple times with random parameter settings each time\n",
    "\n",
    "T = 50;\n",
    "mu = [0.2 0.8];\n",
    "N_repeats = 10;\n",
    "% note this may take a minute or so to run if N_repeats is high\n",
    "\n",
    "COUNT = zeros(1,5);\n",
    "\n",
    "for n = 1:N_repeats\n",
    "    alpha = rand;\n",
    "    beta = 1+exprnd(1);\n",
    "    \n",
    "    [a, r] = simulate_M3RescorlaWagner_v1(T, mu, alpha, beta);\n",
    "\n",
    "    [BIC, iBEST, BEST] = fit_all_v1(a, r);\n",
    "    COUNT = COUNT + BEST;\n",
    "end\n",
    "COUNT"
   ]
  },
  {
   "cell_type": "code",
   "execution_count": 13,
   "metadata": {},
   "outputs": [
    {
     "name": "stdout",
     "output_type": "stream",
     "text": [
      "\n",
      "COUNT =\n",
      "\n",
      "     0     0    10     0     0\n",
      "\n"
     ]
    }
   ],
   "source": [
    "% can improve performance by designing a better experiment - in this case just adding more trials\n",
    "\n",
    "T = 1000;\n",
    "mu = [0.2 0.8];\n",
    "N_repeats = 10;\n",
    "% note this may take a minute or so to run if N_repeats is high\n",
    "\n",
    "COUNT = zeros(1,5);\n",
    "\n",
    "for n = 1:N_repeats\n",
    "    alpha = rand;\n",
    "    beta = 1+exprnd(1);\n",
    "    \n",
    "    [a, r] = simulate_M3RescorlaWagner_v1(T, mu, alpha, beta);\n",
    "\n",
    "    [BIC, iBEST, BEST] = fit_all_v1(a, r);\n",
    "    COUNT = COUNT + BEST;\n",
    "end\n",
    "COUNT"
   ]
  },
  {
   "cell_type": "markdown",
   "metadata": {},
   "source": [
    "## Making a confusion matrix to validate model comparison\n",
    "Just as parameter fitting should be validated by parameter recovery on simulated data, so should model comparison be validated by model recovery on simulated data. More specifically, this process involves simulating data from all models (with a range of parameter values as in the case of parameter recovery) and then fitting that data with all models to determine the extent to which fake data generated from model $A$ is best fit by model $A$ as opposed to model $B$.  This process can be summarized in a confusion matrix that quantifies the probability that each model is the best fit to data generated from the other models.  In a perfect world the confusion matrix will be the identity matrix, but in practice this is not always the case e.g. (Wilson & Niv, 2012)."
   ]
  },
  {
   "cell_type": "code",
   "execution_count": 19,
   "metadata": {},
   "outputs": [],
   "source": [
    "% generate a confusion matrix for this task\n",
    "% this can take a while, start with N_repeats small!\n",
    "\n",
    "\n",
    "CM = zeros(5);\n",
    "\n",
    "T = 50;\n",
    "mu = [0.2 0.8];\n",
    "\n",
    "N_repeats = 10;\n",
    "\n",
    "\n",
    "for count = 1:N_repeats\n",
    "    \n",
    "    % Model 1\n",
    "    b = rand;\n",
    "    [a, r] = simulate_M1random_v1(T, mu, b);\n",
    "    [BIC, iBEST, BEST] = fit_all_v1(a, r);\n",
    "    CM(1,:) = CM(1,:) + BEST;\n",
    "    \n",
    "    % Model 2\n",
    "    epsilon = rand;\n",
    "    [a, r] = simulate_M2WSLS_v1(T, mu, epsilon);\n",
    "    [BIC, iBEST, BEST] = fit_all_v1(a, r);\n",
    "    CM(2,:) = CM(2,:) + BEST;\n",
    "    \n",
    "    % Model 3\n",
    "    alpha = rand;\n",
    "    beta = 1+exprnd(1);\n",
    "    [a, r] = simulate_M3RescorlaWagner_v1(T, mu, alpha, beta);\n",
    "    [BIC, iBEST, BEST] = fit_all_v1(a, r);\n",
    "    CM(3,:) = CM(3,:) + BEST;\n",
    "    \n",
    "    % Model 4\n",
    "    alpha_c = rand;\n",
    "    beta_c = 1+exprnd(1);\n",
    "    [a, r] = simulate_M4ChoiceKernel_v1(T, mu, alpha_c, beta_c);\n",
    "    [BIC, iBEST, BEST] = fit_all_v1(a, r);\n",
    "    CM(4,:) = CM(4,:) + BEST;\n",
    "    \n",
    "    % Model 5\n",
    "    alpha = rand;\n",
    "    beta = 1+exprnd(1);\n",
    "    alpha_c = rand;\n",
    "    beta_c = 1+exprnd(1);\n",
    "    [a, r] = simulate_M5RWCK_v1(T, mu, alpha, beta, alpha_c, beta_c);\n",
    "    [BIC, iBEST, BEST] = fit_all_v1(a, r);\n",
    "    CM(5,:) = CM(5,:) + BEST;\n",
    "    \n",
    "end"
   ]
  },
  {
   "cell_type": "code",
   "execution_count": 22,
   "metadata": {},
   "outputs": [
    {
     "data": {
      "image/png": "[encoded data removed]",
      "text/plain": [
       "<IPython.core.display.Image object>"
      ]
     },
     "metadata": {},
     "output_type": "display_data"
    }
   ],
   "source": [
    "% plot the confusion matrix\n",
    "figure(1); clf;\n",
    "FM = round(100*CM/sum(CM(1,:)))/100;\n",
    "t = imageTextMatrix(FM);\n",
    "set(t(FM'<0.3), 'color', 'w')\n",
    "hold on;\n",
    "[l1, l2] = addFacetLines(CM);\n",
    "set(t, 'fontsize', 18)\n",
    "set(gca, 'xtick', [1:5], 'ytick', [1:5], 'fontsize', 18, ...\n",
    "    'xaxislocation', 'top', 'tickdir', 'out')\n",
    "xlabel('fit model')\n",
    "ylabel('simulated model')\n",
    "    "
   ]
  },
  {
   "cell_type": "markdown",
   "metadata": {},
   "source": [
    "How does the confusion matrix change as you increase the number of trials in the simulation?\n",
    "\n",
    "How does the confusion matrix change as you change the sampling distributions for the random parameter values?"
   ]
  },
  {
   "cell_type": "code",
   "execution_count": null,
   "metadata": {},
   "outputs": [],
   "source": []
  }
 ],
 "metadata": {
  "kernelspec": {
   "display_name": "Matlab",
   "language": "matlab",
   "name": "matlab"
  },
  "language_info": {
   "codemirror_mode": "octave",
   "file_extension": ".m",
   "help_links": [
    {
     "text": "MetaKernel Magics",
     "url": "https://metakernel.readthedocs.io/en/latest/source/README.html"
    }
   ],
   "mimetype": "text/x-octave",
   "name": "matlab",
   "version": "0.16.7"
  }
 },
 "nbformat": 4,
 "nbformat_minor": 2
}
